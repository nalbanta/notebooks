{
 "cells": [
  {
   "cell_type": "markdown",
   "metadata": {
    "_cell_guid": "506bd974-9157-4cc8-a410-cabca6a0f459",
    "_uuid": "fac40b1c1c9e035e1b5d31fb5c702a2c7cc799a1",
    "collapsed": true
   },
   "source": [
    "# Motivation\n",
    "I'll use this script to provide an introduction to data analysis using SQL, which should be a must-have tool for every data scientist - both for getting access to data, but more interesting, as a simple tool for advanced data analysis.\n",
    "The logic behind SQL is very similar to any other tool or language that is used for data analysis (Excel, Pandas),  and for those that are used to working with data, should be very intuitive. "
   ]
  },
  {
   "cell_type": "markdown",
   "metadata": {
    "_cell_guid": "581b0fb8-9fe2-475f-a651-1f308d996401",
    "_uuid": "c01b2a7d26a3bc74f8a5fefd5b5e457265e99aab"
   },
   "source": [
    "# Important Definitions\n",
    "SQL is a conceptual language for working with data stored in databases. In our case, SQLite is the specific implementation. Most SQL languges share all of the capabilities in this doc. The differences are usually in performance and advanced analytical funcionalities (and sometimes bugs of course).\n",
    "Eventually, we will use SQL language to write queries that would pull data from the DB, manipulate it, sort it, and extract it.\n",
    "\n",
    "The most important component of the DB is its tables - that's where all the data stored. Usually the data would be divided among many tables, and not stored all in one place (so designing the data stracture propely is very important). Most of this script would handle how to work with tables.\n",
    "Other than tables, there are some other very useful concepts/features that we won't talk about:\n",
    "* table creation\n",
    "* inserting / updating data in the DB\n",
    "* functions - gets a value as an input and returns a manipulation of that value (for example, function that remove white spaces)"
   ]
  },
  {
   "cell_type": "code",
   "execution_count": null,
   "metadata": {
    "_cell_guid": "b24c5690-a816-45cf-b9d2-51a7a9e0a4f5",
    "_kg_hide-input": false,
    "_uuid": "81e2c6b2403df820374e6c93416d15182c7dc28b"
   },
   "outputs": [],
   "source": [
    "#make sure all packages exist\n",
    "import sys\n",
    "!{sys.executable} -m pip install numpy\n",
    "!{sys.executable} -m pip install pandas\n",
    "!{sys.executable} -m pip install matplotlib\n",
    "\n",
    "#Imports \n",
    "import os\n",
    "import numpy as np # linear algebra\n",
    "import pandas as pd # data processing, CSV file I/O (e.g. pd.read_csv)\n",
    "import sqlite3\n",
    "import matplotlib.pyplot as plt\n",
    "\n",
    "# Input data files are available in the \"../input/\" directory.\n",
    "# For example, running this (by clicking run or pressing Shift+Enter) will list the files in the input directory\n",
    "\n",
    "path = os.getcwd()+\"/input/\"  \n",
    "database = path + 'database.sqlite'"
   ]
  },
  {
   "cell_type": "markdown",
   "metadata": {
    "_cell_guid": "a1904a39-a670-488e-96f6-79a300632f04",
    "_uuid": "2f39df885d6f3a6253eab35a617550780b4e6c04"
   },
   "source": [
    "# First we will create the connection to the DB, and see what tables we have\n",
    "The basic structure of the query is very simple:\n",
    "* You define what you want to see after the SELECT. * means all possible columns.\n",
    "* You choose the table after the FROM.\n",
    "* You add the conditions for the data you want to use from the table(s) after the WHERE.\n",
    "\n",
    "The structure and the order of the sections matter, while spaces, new lines, capital words, and indentation are there to make the code easier to read."
   ]
  },
  {
   "cell_type": "code",
   "execution_count": null,
   "metadata": {
    "_cell_guid": "4cb0a902-99e2-4ad7-a217-87db3950630e",
    "_uuid": "ae3f3b681f48c7c8863999e0434d7ce2f9b43f34"
   },
   "outputs": [],
   "source": [
    "conn = sqlite3.connect(database)\n",
    "\n",
    "tables = pd.read_sql(\"\"\"SELECT *\n",
    "                        FROM sqlite_master\n",
    "                        WHERE type='table';\"\"\", conn)\n",
    "tables"
   ]
  },
  {
   "cell_type": "markdown",
   "metadata": {
    "_cell_guid": "1d749faa-7d12-40e1-96ce-de791dd28526",
    "_uuid": "aa75b8d7a97a5e878fb1482c80889abe8b7beb5b"
   },
   "source": [
    "# List of countries\n",
    "This is the most basic query.\n",
    "The only required parts of a query are the SELECT and the FROM (assuming you want to pull from a table)."
   ]
  },
  {
   "cell_type": "code",
   "execution_count": null,
   "metadata": {
    "_cell_guid": "e64c0d9b-7999-4458-875c-38a2f0649f6c",
    "_kg_hide-input": false,
    "_kg_hide-output": false,
    "_uuid": "de315df5c5a856be24fc96803099f8b0df91f6da"
   },
   "outputs": [],
   "source": [
    "countries = pd.read_sql(\"\"\"SELECT *\n",
    "                        FROM Country;\"\"\", conn)\n",
    "countries"
   ]
  },
  {
   "cell_type": "markdown",
   "metadata": {
    "_cell_guid": "d2e02d44-e124-4558-b3c3-475e7074ae5e",
    "_uuid": "ccccdfdf702455719c9a2d20860c04d8c2fd15cf"
   },
   "source": [
    "# List of leagues and their country \n",
    "JOIN is used when you want to connect two tables to each other. It works when you have a common key in each of them.\n",
    "Understanding the concept of Keys is crucial for connecting (joining) between datasets (tables). \n",
    "A key uniquely identifies each record (row) in a table. \n",
    "It can consinst of one value (cell) - usually ID, or from a combination of values that are unique in the table.\n",
    "\n",
    "When joining between different tables, you must:\n",
    "* Decide what type of join to use. The most common are:\n",
    "* * (INNER) JOIN - keep only records that match the condition (after the ON) in both the tables, and records in both tables that do not match wouldn't appear in the output\n",
    "* * LEFT JOIN - keep all the values from the first (left) table - in conjunction with the matching rows from the right table. The columns from the right table that don't have a matching value in the left would have NULL values. \n",
    "* Specify the common value that is used to connect the tables (the ID of the country in this case). \n",
    "* Make sure that at least one of the values has to be a key in its table. In our case, it's the Country.id. The League.country_id is not unique, as there can be more than one league in the same country\n",
    "\n",
    "Using JOINs incorrectly is the most common and dangerous mistake when writing complicated queries."
   ]
  },
  {
   "cell_type": "code",
   "execution_count": null,
   "metadata": {
    "_cell_guid": "9f1f76bf-3870-458d-b092-e00c3719b0f1",
    "_kg_hide-output": false,
    "_uuid": "633c5dec1f173c077d296af9e589a0abf6cb9396"
   },
   "outputs": [],
   "source": [
    "leagues = pd.read_sql(\"\"\"SELECT *\n",
    "                        FROM League\n",
    "                        JOIN Country ON Country.id = League.country_id;\"\"\", conn)\n",
    "leagues"
   ]
  },
  {
   "cell_type": "markdown",
   "metadata": {
    "_cell_guid": "2c791a87-1a24-49b8-9e8a-59d6383bdd56",
    "_uuid": "ca37991951b15e842a35ea168273110328e88e7f"
   },
   "source": [
    "# List of teams\n",
    "ORDER BY defines the sorting of the output - ascending (ASC) or descending (DESC).\n",
    "\n",
    "LIMIT limits the number of rows in the output - after the sorting."
   ]
  },
  {
   "cell_type": "code",
   "execution_count": null,
   "metadata": {
    "_cell_guid": "f2850218-dbfa-432e-874d-af112f399137",
    "_uuid": "1ba6a54bf81ad1c0b1e8348cb2f7cc4365f5953a"
   },
   "outputs": [],
   "source": [
    "teams = pd.read_sql(\"\"\"SELECT *\n",
    "                        FROM Team\n",
    "                        ORDER BY team_long_name\n",
    "                        LIMIT 10;\"\"\", conn)\n",
    "teams"
   ]
  },
  {
   "cell_type": "markdown",
   "metadata": {
    "_cell_guid": "347e4255-340f-434b-9215-91e7fa60019d",
    "_uuid": "8092b006106928451a28d47fd2e93efb26a9ba6c"
   },
   "source": [
    "# List of matches\n",
    "In this example, we show only the columns that interest us. Instead of * we will use the exact names.\n",
    "\n",
    "Some of the cells have the same name (Country.name,League.name). We will rename them using AS.\n",
    "\n",
    "As you can see, this query has many more joins. The reasons is because the DB is designed in a star\n",
    "structure - one table (Match) with all the \"performance\" and metrics, but only keys and IDs,\n",
    "while all the descriptive information is stored in other tables (Country, League, Team).\n",
    "\n",
    "Note that Team is joined twice. This is a tricky one, as while we are using the same table name, we basically bring two different copies (and rename them using AS). The reason is that we need to bring information about two different values (home_team_api_id, away_team_api_id), and if we join them to the same table, it would mean that they are equal to each other.\n",
    "\n",
    "You will also note that the Team tables are joined using a LEFT join. The reason for this is that I would prefer to keep the matches in the output - even if one of the teams doesn't appear in the Team table.\n",
    "\n",
    "ORDER defines the order of the output, and comes before the LIMIT and after the WHERE."
   ]
  },
  {
   "cell_type": "code",
   "execution_count": null,
   "metadata": {
    "_cell_guid": "6538dec2-d24f-4310-a010-4f5c630a5bb9",
    "_uuid": "5fcbd2cc7d6ec1545a618a082621e6ffde7fc907"
   },
   "outputs": [],
   "source": [
    "detailed_matches = pd.read_sql(\"\"\"SELECT Match.id, \n",
    "                                        Country.name AS country_name, \n",
    "                                        League.name AS league_name, \n",
    "                                        season, \n",
    "                                        stage, \n",
    "                                        date,\n",
    "                                        HT.team_long_name AS  home_team,\n",
    "                                        AT.team_long_name AS away_team,\n",
    "                                        home_team_goal, \n",
    "                                        away_team_goal                                        \n",
    "                                FROM Match\n",
    "                                JOIN Country on Country.id = Match.country_id\n",
    "                                JOIN League on League.id = Match.league_id\n",
    "                                LEFT JOIN Team AS HT on HT.team_api_id = Match.home_team_api_id\n",
    "                                LEFT JOIN Team AS AT on AT.team_api_id = Match.away_team_api_id\n",
    "                                WHERE country_name = 'Spain'\n",
    "                                ORDER by date\n",
    "                                LIMIT 10;\"\"\", conn)\n",
    "detailed_matches"
   ]
  },
  {
   "cell_type": "markdown",
   "metadata": {
    "_cell_guid": "63b4a413-41f5-434c-9ae1-e4b7cc6df717",
    "_uuid": "2df09bf2c111e61a9901f1876617f84dd89627cd"
   },
   "source": [
    "# Let's do some basic analytics\n",
    "Here we are starting to look at the data at a more aggregated level. Instead of looking at raw data, we will start to group it into the different levels we want to examine.\n",
    "The following example is based on the previous query, but we remove the match and date information, and look at it at the country-league-season level.\n",
    "\n",
    "The functionality we will use to do this is GROUP BY, which comes between the WHERE and ORDER statements.\n",
    "\n",
    "Once you chose what level you want to analyze, you can divide the SELECT statement in two:\n",
    "* Dimensions - these are the values we are describing, same that we group by later.\n",
    "* Metrics - all the metrics have to be aggregated using functions. \n",
    "The common functions are: sum(), count(), count(distinct), avg(), min(), max().\n",
    "\n",
    "Note - it is very important to use the same dimensions both in the SELECT, and in the GROUP BY statements. Otherwise, the output might be wrong.\n",
    "\n",
    "Another functionality that can be used after grouping, is HAVING. This adds another layer of filtering on the data, this time the output of the table **after** the grouping. It is often used to clean the output.\n"
   ]
  },
  {
   "cell_type": "code",
   "execution_count": null,
   "metadata": {
    "_cell_guid": "8b92be20-2e32-472d-8a1d-5a4147d5ea03",
    "_kg_hide-output": false,
    "_uuid": "57b770e270081fb69e56e896660228ea70a25921"
   },
   "outputs": [],
   "source": [
    "leages_by_season = pd.read_sql(\"\"\"SELECT Country.name AS country_name, \n",
    "                                        League.name AS league_name, \n",
    "                                        season,\n",
    "                                        count(distinct stage) AS number_of_stages,\n",
    "                                        count(distinct HT.team_long_name) AS number_of_teams,\n",
    "                                        avg(home_team_goal) AS avg_home_team_scors, \n",
    "                                        avg(away_team_goal) AS avg_away_team_goals, \n",
    "                                        avg(home_team_goal-away_team_goal) AS avg_goal_dif, \n",
    "                                        avg(home_team_goal+away_team_goal) AS avg_goals, \n",
    "                                        sum(home_team_goal+away_team_goal) AS total_goals                                       \n",
    "                                FROM Match\n",
    "                                JOIN Country on Country.id = Match.country_id\n",
    "                                JOIN League on League.id = Match.league_id\n",
    "                                LEFT JOIN Team AS HT on HT.team_api_id = Match.home_team_api_id\n",
    "                                LEFT JOIN Team AS AT on AT.team_api_id = Match.away_team_api_id\n",
    "                                WHERE country_name in ('Spain', 'Germany', 'France', 'Italy', 'England')\n",
    "                                GROUP BY Country.name, League.name, season\n",
    "                                HAVING count(distinct stage) > 10\n",
    "                                ORDER BY Country.name, League.name, season DESC\n",
    "                                ;\"\"\", conn)\n",
    "leages_by_season"
   ]
  },
  {
   "cell_type": "code",
   "execution_count": null,
   "metadata": {
    "_cell_guid": "6f8b19b2-8559-4656-b182-9b11f59989e8",
    "_kg_hide-input": true,
    "_uuid": "5bbd68e2a116450427b48743f0da824df9cb8b79"
   },
   "outputs": [],
   "source": [
    "df = pd.DataFrame(index=np.sort(leages_by_season['season'].unique()), columns=leages_by_season['country_name'].unique())\n",
    "\n",
    "df.loc[:,'Germany'] = list(leages_by_season.loc[leages_by_season['country_name']=='Germany','avg_goals'])\n",
    "df.loc[:,'Spain']   = list(leages_by_season.loc[leages_by_season['country_name']=='Spain','avg_goals'])\n",
    "df.loc[:,'France']   = list(leages_by_season.loc[leages_by_season['country_name']=='France','avg_goals'])\n",
    "df.loc[:,'Italy']   = list(leages_by_season.loc[leages_by_season['country_name']=='Italy','avg_goals'])\n",
    "df.loc[:,'England']   = list(leages_by_season.loc[leages_by_season['country_name']=='England','avg_goals'])\n",
    "\n",
    "df.plot(figsize=(12,5),title='Average Goals per Game Over Time')"
   ]
  },
  {
   "cell_type": "code",
   "execution_count": null,
   "metadata": {
    "_cell_guid": "f2a75e9a-6653-48b0-9197-cd6359ab6da8",
    "_kg_hide-input": true,
    "_uuid": "c3c47ee74d74659d2b9b23ad00e0bbef9a0ea5c5"
   },
   "outputs": [],
   "source": [
    "df = pd.DataFrame(index=np.sort(leages_by_season['season'].unique()), columns=leages_by_season['country_name'].unique())\n",
    "\n",
    "df.loc[:,'Germany'] = list(leages_by_season.loc[leages_by_season['country_name']=='Germany','avg_goal_dif'])\n",
    "df.loc[:,'Spain']   = list(leages_by_season.loc[leages_by_season['country_name']=='Spain','avg_goal_dif'])\n",
    "df.loc[:,'France']   = list(leages_by_season.loc[leages_by_season['country_name']=='France','avg_goal_dif'])\n",
    "df.loc[:,'Italy']   = list(leages_by_season.loc[leages_by_season['country_name']=='Italy','avg_goal_dif'])\n",
    "df.loc[:,'England']   = list(leages_by_season.loc[leages_by_season['country_name']=='England','avg_goal_dif'])\n",
    "\n",
    "df.plot(figsize=(12,5),title='Average Goals Difference Home vs Out')"
   ]
  },
  {
   "cell_type": "markdown",
   "metadata": {
    "_cell_guid": "dc398357-9a0c-46db-ba76-1f9d07b93b41",
    "_uuid": "dbd4ef350896497e1f11d0023fce9810300a45b2"
   },
   "source": [
    "# Query Run Order\n",
    "Now that we are familiar with most of the functionality being used in a query, it is very important to understand the order in which the code runs.\n",
    "\n",
    "First, in order of how we write it (reminder):\n",
    "* SELECT\n",
    "* FROM\n",
    "* JOIN\n",
    "* WHERE\n",
    "* GROUP BY\n",
    "* HAVING\n",
    "* ORDER BY\n",
    "* LIMIT\n",
    "\n",
    "Now, the actual order in which things happens.\n",
    "First, you can think of this part as creating a new temporal table in the memory:\n",
    "* Define which tables to use, and connect them (FROM + JOIN)\n",
    "* Keep only the rows that apply to the conditions (WHERE)\n",
    "* Group the data by the required level (if need) (GROUP BY)\n",
    "* Choose what information you want to have in the new table. It can have just raw data (if no grouping), or a  combination of dimensions (from the grouping), and metrics\n",
    "\n",
    "Now, you chose what to show from the table:\n",
    "* Order the output of the new table (ORDER BY)\n",
    "* Add more conditions that would filter the new created table (HAVING) \n",
    "* Limit to number of rows - would cut it according the soring and the having filtering (LIMIT)\n"
   ]
  },
  {
   "cell_type": "markdown",
   "metadata": {
    "_cell_guid": "f17cbfb9-d25c-4597-887a-6114eddda250",
    "_uuid": "fd444f1cf990ec5cc42c889a65cabff0f1353d27"
   },
   "source": [
    "# Sub Queries and Functions \n",
    "\n",
    "Using subqueries is an essential tool in SQL, as it allows manipulating the data in advanced ways without the need of any external scripts, and especially important when your tables are structured in such a way that they can't be joined directly.\n",
    "\n",
    "In our example, I'm trying to join between a table that holds players' basic details (name, height, weight) to a table that holds more attributes. The problem is that while the first table holds one row for each player, the key in the second table is player+season. So, if we do a regular join, the result would be a Cartesian product, and each player's basic details would appear as many times as this player appears in the attributes table. The problem with that, of course, is that the average would be skewed towards players that appear many times in the attribute table.\n",
    "\n",
    "The solution is to use a subquery. We would need to group the attributes table to a different key - player-level only (without season). Of course, we would need to decide first how we would want to combine all the attributes to a single row. I used average, but one can also decide on maximum, latest season, etc. \n",
    "Once both tables have the same keys, we can join them together (think of the subquery as any other table, only temporal), knowing that we won't have duplicated rows after the join.\n",
    "\n",
    "In addition, you can see here two examples of how to use functions:\n",
    "* Conditional function is an important tool for data manipulation. While IF statements are popular in other languages, SQLite does not support it. Instead, it's implemented using CASE + WHEN + ELSE statements. \n",
    "As you can see, based on the input of the data, the query would return different results.\n",
    "\n",
    "* ROUND - straight forward.\n",
    "Every SQL languages comes with a lot of usefull functions by default."
   ]
  },
  {
   "cell_type": "code",
   "execution_count": null,
   "metadata": {
    "_cell_guid": "cda7c6ea-33af-4155-a2fa-93548aef12e7",
    "_kg_hide-input": false,
    "_kg_hide-output": false,
    "_uuid": "c0620891169bb5ea3d0de4f800737f40a93c6b03"
   },
   "outputs": [],
   "source": [
    "players_height = pd.read_sql(\"\"\"SELECT CASE\n",
    "                                        WHEN ROUND(height)<165 then 165\n",
    "                                        WHEN ROUND(height)>195 then 195\n",
    "                                        ELSE ROUND(height)\n",
    "                                        END AS calc_height, \n",
    "                                        COUNT(height) AS distribution, \n",
    "                                        (avg(PA_Grouped.avg_overall_rating)) AS avg_overall_rating,\n",
    "                                        (avg(PA_Grouped.avg_potential)) AS avg_potential,\n",
    "                                        AVG(weight) AS avg_weight \n",
    "                            FROM PLAYER\n",
    "                            LEFT JOIN (SELECT Player_Attributes.player_api_id, \n",
    "                                        avg(Player_Attributes.overall_rating) AS avg_overall_rating,\n",
    "                                        avg(Player_Attributes.potential) AS avg_potential  \n",
    "                                        FROM Player_Attributes\n",
    "                                        GROUP BY Player_Attributes.player_api_id) \n",
    "                                        AS PA_Grouped ON PLAYER.player_api_id = PA_Grouped.player_api_id\n",
    "                            GROUP BY calc_height\n",
    "                            ORDER BY calc_height\n",
    "                                ;\"\"\", conn)\n",
    "players_height"
   ]
  },
  {
   "cell_type": "code",
   "execution_count": null,
   "metadata": {
    "_cell_guid": "3c06ab2d-d93c-4cf0-a8b8-55df5753e24f",
    "_kg_hide-input": true,
    "_uuid": "391bd233403a29cc9be121f12afcaeae83a20952"
   },
   "outputs": [],
   "source": [
    "players_height.plot(x='calc_height',y=['avg_overall_rating'],figsize=(12,5),title='Potential vs Height')"
   ]
  },
  {
   "cell_type": "code",
   "execution_count": null,
   "metadata": {
    "collapsed": true
   },
   "outputs": [],
   "source": []
  }
 ],
 "metadata": {
  "kernelspec": {
   "display_name": "Python 3",
   "language": "python",
   "name": "python3"
  },
  "language_info": {
   "codemirror_mode": {
    "name": "ipython",
    "version": 3
   },
   "file_extension": ".py",
   "mimetype": "text/x-python",
   "name": "python",
   "nbconvert_exporter": "python",
   "pygments_lexer": "ipython3",
   "version": "3.7.3"
  }
 },
 "nbformat": 4,
 "nbformat_minor": 1
}
