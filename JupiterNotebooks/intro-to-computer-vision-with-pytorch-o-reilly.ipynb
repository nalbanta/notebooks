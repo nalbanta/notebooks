{
 "cells": [
  {
   "cell_type": "markdown",
   "metadata": {},
   "source": [
    "## Introduction\n",
    "Every once in a while, a python library is developed that has the potential of changing the landscape in the field of Deep Learning. PyTorch is one such library. In the past few months, I have been dabbling a bit in PyTorch. I have been blown away by how easy it is to grasp. Among the various deep learning libraries I have used till date – PyTorch has been the most flexible and effortless of them all.\n",
    "\n",
    "Now we're going to build a deep neural network that can solve a (formerly) difficult problem, identifying text in an image. Here we'll use the MNIST dataset which consists of greyscale handwritten digits. Each image is 28x28 pixels, you can see a sample below\n",
    "\n",
    "![MNIST](https://miro.medium.com/max/479/1*yBdJCRwIJGoM7pwU-LNW6Q.png)\n",
    "\n",
    "Our goal is to build a neural network that can take one of these images and predict the digit in the image. Let's get straight into it\n",
    "\n",
    "\n",
    "> Note: Don't worry if you're a beginner in Deep Learning, this tutorial assumes very little prerequisites.\n",
    "\n"
   ]
  },
  {
   "cell_type": "markdown",
   "metadata": {},
   "source": [
    "## Imports\n",
    "We need to import some libraries to kick things off first up.\n",
    "\n",
    "**These are the most basic ones we need for any Machine Learning project:**\n",
    "\n",
    "* **Numpy** for numerical computing. \n",
    "\n",
    "* **pandas** for structured data manipulation \n",
    "\n",
    "* **matplotlib** to plot some good looking graphs.\n",
    "\n",
    "* **Scikit-learn** is imported for its useful `train_test_split` function here. (We may need many of its functions on a different project, sklearn is one of the most useful tools for Machine Learning you can find)\n",
    "\n",
    "\n",
    "**Deep Learning Frameworks**\n",
    "\n",
    "**PyTorch** - our secret sauce to implement Deep Neural Networks.\n",
    "\n"
   ]
  },
  {
   "cell_type": "code",
   "execution_count": 1,
   "metadata": {
    "_cell_guid": "b1076dfc-b9ad-4769-8c92-a6c4dae69d19",
    "_uuid": "8f2839f25d086af736a60e9eeb907d3b93b6e0e5"
   },
   "outputs": [
    {
     "name": "stdout",
     "output_type": "stream",
     "text": [
      "['train.csv', 'test.csv', 'sample_submission.csv']\n"
     ]
    }
   ],
   "source": [
    "import numpy as np # linear algebra\n",
    "import pandas as pd # data processing, CSV file I/O (e.g. pd.read_csv)\n",
    "import matplotlib.pyplot as plt # for plotting beautiful graphs\n",
    "\n",
    "# train test split from sklearn\n",
    "from sklearn.model_selection import train_test_split\n",
    "\n",
    "# Import Torch \n",
    "import torch\n",
    "import torch.nn as nn\n",
    "from torchvision import transforms, models\n",
    "from torch.autograd import Variable\n",
    "from torch import nn, optim\n",
    "import torch.nn.functional as F\n",
    "\n",
    "# What's in the current directory?\n",
    "import os\n",
    "print(os.listdir(\"../data/\"))"
   ]
  },
  {
   "cell_type": "markdown",
   "metadata": {},
   "source": [
    "## Import the Data"
   ]
  },
  {
   "cell_type": "markdown",
   "metadata": {},
   "source": [
    "Let's start by importing and seeing what data we have at hand. As we have seen before pandas helps us analyze and manipulate structured data. \n",
    "\n",
    "**Our Data**:\n",
    "\n",
    "digit-recognizer <br />\n",
    "&nbsp; &nbsp; &nbsp; &nbsp;|--- sample_submission.csv <br />\n",
    "&nbsp; &nbsp; &nbsp; &nbsp;|--- test.csv <br />\n",
    "&nbsp; &nbsp; &nbsp; &nbsp;|--- train.csv <br/>\n",
    "    \n",
    "There is our three CSV files to start with, CSVs are just a way of representing tabular data in a form where commas are used as seperators which is simple to implement, easier to handle and represent. \n",
    "\n",
    "Pandas has its `read_csv` method that makes reading these CSV files in a format understandable by Python called `dataframe`.\n",
    "\n",
    "Now lets see this in action..."
   ]
  },
  {
   "cell_type": "code",
   "execution_count": 2,
   "metadata": {},
   "outputs": [
    {
     "data": {
      "text/html": [
       "<div>\n",
       "<style scoped>\n",
       "    .dataframe tbody tr th:only-of-type {\n",
       "        vertical-align: middle;\n",
       "    }\n",
       "\n",
       "    .dataframe tbody tr th {\n",
       "        vertical-align: top;\n",
       "    }\n",
       "\n",
       "    .dataframe thead th {\n",
       "        text-align: right;\n",
       "    }\n",
       "</style>\n",
       "<table border=\"1\" class=\"dataframe\">\n",
       "  <thead>\n",
       "    <tr style=\"text-align: right;\">\n",
       "      <th></th>\n",
       "      <th>label</th>\n",
       "      <th>pixel0</th>\n",
       "      <th>pixel1</th>\n",
       "      <th>pixel2</th>\n",
       "      <th>pixel3</th>\n",
       "      <th>pixel4</th>\n",
       "      <th>pixel5</th>\n",
       "      <th>pixel6</th>\n",
       "      <th>pixel7</th>\n",
       "      <th>pixel8</th>\n",
       "      <th>...</th>\n",
       "      <th>pixel774</th>\n",
       "      <th>pixel775</th>\n",
       "      <th>pixel776</th>\n",
       "      <th>pixel777</th>\n",
       "      <th>pixel778</th>\n",
       "      <th>pixel779</th>\n",
       "      <th>pixel780</th>\n",
       "      <th>pixel781</th>\n",
       "      <th>pixel782</th>\n",
       "      <th>pixel783</th>\n",
       "    </tr>\n",
       "  </thead>\n",
       "  <tbody>\n",
       "    <tr>\n",
       "      <th>0</th>\n",
       "      <td>1.0</td>\n",
       "      <td>0.0</td>\n",
       "      <td>0.0</td>\n",
       "      <td>0.0</td>\n",
       "      <td>0.0</td>\n",
       "      <td>0.0</td>\n",
       "      <td>0.0</td>\n",
       "      <td>0.0</td>\n",
       "      <td>0.0</td>\n",
       "      <td>0.0</td>\n",
       "      <td>...</td>\n",
       "      <td>0.0</td>\n",
       "      <td>0.0</td>\n",
       "      <td>0.0</td>\n",
       "      <td>0.0</td>\n",
       "      <td>0.0</td>\n",
       "      <td>0.0</td>\n",
       "      <td>0.0</td>\n",
       "      <td>0.0</td>\n",
       "      <td>0.0</td>\n",
       "      <td>0.0</td>\n",
       "    </tr>\n",
       "    <tr>\n",
       "      <th>1</th>\n",
       "      <td>0.0</td>\n",
       "      <td>0.0</td>\n",
       "      <td>0.0</td>\n",
       "      <td>0.0</td>\n",
       "      <td>0.0</td>\n",
       "      <td>0.0</td>\n",
       "      <td>0.0</td>\n",
       "      <td>0.0</td>\n",
       "      <td>0.0</td>\n",
       "      <td>0.0</td>\n",
       "      <td>...</td>\n",
       "      <td>0.0</td>\n",
       "      <td>0.0</td>\n",
       "      <td>0.0</td>\n",
       "      <td>0.0</td>\n",
       "      <td>0.0</td>\n",
       "      <td>0.0</td>\n",
       "      <td>0.0</td>\n",
       "      <td>0.0</td>\n",
       "      <td>0.0</td>\n",
       "      <td>0.0</td>\n",
       "    </tr>\n",
       "    <tr>\n",
       "      <th>2</th>\n",
       "      <td>1.0</td>\n",
       "      <td>0.0</td>\n",
       "      <td>0.0</td>\n",
       "      <td>0.0</td>\n",
       "      <td>0.0</td>\n",
       "      <td>0.0</td>\n",
       "      <td>0.0</td>\n",
       "      <td>0.0</td>\n",
       "      <td>0.0</td>\n",
       "      <td>0.0</td>\n",
       "      <td>...</td>\n",
       "      <td>0.0</td>\n",
       "      <td>0.0</td>\n",
       "      <td>0.0</td>\n",
       "      <td>0.0</td>\n",
       "      <td>0.0</td>\n",
       "      <td>0.0</td>\n",
       "      <td>0.0</td>\n",
       "      <td>0.0</td>\n",
       "      <td>0.0</td>\n",
       "      <td>0.0</td>\n",
       "    </tr>\n",
       "    <tr>\n",
       "      <th>3</th>\n",
       "      <td>4.0</td>\n",
       "      <td>0.0</td>\n",
       "      <td>0.0</td>\n",
       "      <td>0.0</td>\n",
       "      <td>0.0</td>\n",
       "      <td>0.0</td>\n",
       "      <td>0.0</td>\n",
       "      <td>0.0</td>\n",
       "      <td>0.0</td>\n",
       "      <td>0.0</td>\n",
       "      <td>...</td>\n",
       "      <td>0.0</td>\n",
       "      <td>0.0</td>\n",
       "      <td>0.0</td>\n",
       "      <td>0.0</td>\n",
       "      <td>0.0</td>\n",
       "      <td>0.0</td>\n",
       "      <td>0.0</td>\n",
       "      <td>0.0</td>\n",
       "      <td>0.0</td>\n",
       "      <td>0.0</td>\n",
       "    </tr>\n",
       "    <tr>\n",
       "      <th>4</th>\n",
       "      <td>0.0</td>\n",
       "      <td>0.0</td>\n",
       "      <td>0.0</td>\n",
       "      <td>0.0</td>\n",
       "      <td>0.0</td>\n",
       "      <td>0.0</td>\n",
       "      <td>0.0</td>\n",
       "      <td>0.0</td>\n",
       "      <td>0.0</td>\n",
       "      <td>0.0</td>\n",
       "      <td>...</td>\n",
       "      <td>0.0</td>\n",
       "      <td>0.0</td>\n",
       "      <td>0.0</td>\n",
       "      <td>0.0</td>\n",
       "      <td>0.0</td>\n",
       "      <td>0.0</td>\n",
       "      <td>0.0</td>\n",
       "      <td>0.0</td>\n",
       "      <td>0.0</td>\n",
       "      <td>0.0</td>\n",
       "    </tr>\n",
       "  </tbody>\n",
       "</table>\n",
       "<p>5 rows × 785 columns</p>\n",
       "</div>"
      ],
      "text/plain": [
       "   label  pixel0  pixel1  pixel2  pixel3  pixel4  pixel5  pixel6  pixel7  \\\n",
       "0    1.0     0.0     0.0     0.0     0.0     0.0     0.0     0.0     0.0   \n",
       "1    0.0     0.0     0.0     0.0     0.0     0.0     0.0     0.0     0.0   \n",
       "2    1.0     0.0     0.0     0.0     0.0     0.0     0.0     0.0     0.0   \n",
       "3    4.0     0.0     0.0     0.0     0.0     0.0     0.0     0.0     0.0   \n",
       "4    0.0     0.0     0.0     0.0     0.0     0.0     0.0     0.0     0.0   \n",
       "\n",
       "   pixel8  ...  pixel774  pixel775  pixel776  pixel777  pixel778  pixel779  \\\n",
       "0     0.0  ...       0.0       0.0       0.0       0.0       0.0       0.0   \n",
       "1     0.0  ...       0.0       0.0       0.0       0.0       0.0       0.0   \n",
       "2     0.0  ...       0.0       0.0       0.0       0.0       0.0       0.0   \n",
       "3     0.0  ...       0.0       0.0       0.0       0.0       0.0       0.0   \n",
       "4     0.0  ...       0.0       0.0       0.0       0.0       0.0       0.0   \n",
       "\n",
       "   pixel780  pixel781  pixel782  pixel783  \n",
       "0       0.0       0.0       0.0       0.0  \n",
       "1       0.0       0.0       0.0       0.0  \n",
       "2       0.0       0.0       0.0       0.0  \n",
       "3       0.0       0.0       0.0       0.0  \n",
       "4       0.0       0.0       0.0       0.0  \n",
       "\n",
       "[5 rows x 785 columns]"
      ]
     },
     "execution_count": 2,
     "metadata": {},
     "output_type": "execute_result"
    }
   ],
   "source": [
    "train = pd.read_csv(\"../data/train.csv\", dtype=np.float32)\n",
    "final_test = pd.read_csv(\"../data/test.csv\", dtype=np.float32)\n",
    "sample_sub = pd.read_csv(\"../data/sample_submission.csv\")\n",
    "train.head()"
   ]
  },
  {
   "cell_type": "markdown",
   "metadata": {},
   "source": [
    "Hmm, that looks like we have the pixel values not the images. (Probably you noticed that earlier, looking at the folder structure)\n",
    "\n",
    "And that looks insanely long as well. Lets get to know more but a little smartly this time because we have `pandas` here to help us.\n",
    "\n",
    "We can use pandas' `info` method to see more details about the data like how much data there is and the number of columns, which is the one we need to find as we need to know exactly how many pixels values we have. "
   ]
  },
  {
   "cell_type": "code",
   "execution_count": 3,
   "metadata": {},
   "outputs": [
    {
     "name": "stdout",
     "output_type": "stream",
     "text": [
      "<class 'pandas.core.frame.DataFrame'>\n",
      "RangeIndex: 42000 entries, 0 to 41999\n",
      "Columns: 785 entries, label to pixel783\n",
      "dtypes: float32(785)\n",
      "memory usage: 125.8 MB\n"
     ]
    }
   ],
   "source": [
    "train.info()"
   ]
  },
  {
   "cell_type": "markdown",
   "metadata": {},
   "source": [
    "* So each row contails 1 label and 784 of its pixel values which translates to one image.\n",
    "* And there are 42,000 rows exactly. (starting from 0)\n",
    "<br>\n",
    "<br>\n",
    "\n",
    "**label**: It is the actual ground truth value that the image represents, in this case it is between 0 - 9 as we are dealing with images with handwritten digits.\n",
    "\n",
    "So the next question would naturally be how much data for each label we actually have, this is important because if the numbers are imbalanced or completely skewed we might have to use a completely different approach. \n",
    "\n",
    "We can do this by using the `value_counts` method of a pandas series. A series is just a single long sequence like one column alone in a dataframe so many series objects make up one dataframe object."
   ]
  },
  {
   "cell_type": "code",
   "execution_count": 4,
   "metadata": {},
   "outputs": [
    {
     "data": {
      "text/plain": [
       "1.0    4684\n",
       "7.0    4401\n",
       "3.0    4351\n",
       "9.0    4188\n",
       "2.0    4177\n",
       "6.0    4137\n",
       "0.0    4132\n",
       "4.0    4072\n",
       "8.0    4063\n",
       "5.0    3795\n",
       "Name: label, dtype: int64"
      ]
     },
     "execution_count": 4,
     "metadata": {},
     "output_type": "execute_result"
    }
   ],
   "source": [
    "train['label'].value_counts()"
   ]
  },
  {
   "cell_type": "markdown",
   "metadata": {},
   "source": [
    "So looks like our data is decently balanced."
   ]
  },
  {
   "cell_type": "markdown",
   "metadata": {},
   "source": [
    "## Preparing Dataset\n",
    "> Throughout the notebook, I'll first provide an overview of what we are going to do and break everything down later to explain each line.\n",
    "\n",
    "1. What we are doing here is taking the raw dataset and splitting into targets and features. Dividing by 255 makes each pixel value to scale between 0 and 1 instead of 0 and 255, which helps in training our model. This step in Machine Learning is generally known as Normalization. Then we split into train and test sets using sklearn's `train_test_split` function.\n",
    "\n",
    "2. Converting the numpy arrays into PyTorch Tensors using `from_numpy` function. Don’t let the word “tensor” scare you. It is nothing more than a simple mathematical concept. Tensors are mathematical objects that generalize scalars, vectors and matrices to higher dimensions.\n",
    "\n",
    "3. Batch size is set. The batch size is usually set between 64 and 256. The batch size does have an effect on the final test accuracy. One way to think about it is that smaller batches means that the number of parameter updates per epoch is greater. \n",
    "\n",
    "4. To pass our data into our PyTorch models we need to convert it to a PyTorch Dataset. A Tensor Dataset in this case. \n",
    "\n",
    "5. We have the training data loaded into trainloader and we can make an iterator with iter(trainloader) that can help us grab data. Later, we'll use this to loop through the dataset for training. Each time we can pull out data of the size of the batch that is defined."
   ]
  },
  {
   "cell_type": "code",
   "execution_count": 5,
   "metadata": {},
   "outputs": [],
   "source": [
    "# Seperate the features and labels\n",
    "targets_np = train.label.values\n",
    "features_np = train.loc[:, train.columns != 'label'].values/255"
   ]
  },
  {
   "cell_type": "markdown",
   "metadata": {},
   "source": [
    "Whoa! So what was all that code? Yeah you know what it does from the overview you read earlier but how did I write this code? I'll explain...\n",
    "\n",
    "`train.labels` gives us all the labels with indices, we don't need indices so the use `.values` attribute to get the values alone and save that in `targets_np` which means targets in numpy array format.\n",
    "\n",
    "`train.loc` lets us access the rows and columns in this fashion `[rows, columns]`, it helps us get what we need from the dataframe. (Note that it is not a function and you are not calling it, it is more like indexing) \n",
    "\n",
    "`train.loc[:, train.columns != 'label']` means we want all the rows for which we use `:` and all the columns except `label` so we do  `train.columns != 'label'`. \n",
    "\n",
    "Again we are interested only in values so we use `.values` attribute. \n",
    "\n",
    "In the end, we divide it by 255 to normalize the pixel values. As we have pixel values all only in the range 0 - 255 diving by 255 brings it down to 0 - 1 scale. \n",
    "\n",
    "\n",
    "**So, Why normalization?**\n",
    "\n",
    "* When the parameter space in big, like in our case 0 - 255, this can have a significant effect when training neural networks. A model with large weight values will be unstable because of the way neural networks work and it can quickly lead to problems like exploding gradients in a regression task. \n",
    "\n",
    "* So one way to change the scale of the data without changing the distribution of the data is called normalization. Since we know the pixel values always range in between 0 and 255 diving by 255 will naturally bring it down to 0 - 1 scale. \n",
    "\n",
    "* But this may not be the case for all problems you may face, you should then use Min-Max Scaling instead. Which can be done like this,\n",
    "    `X_normalized = (X - min)/(max - min)` for while you can also use Scikit-learn's built in MinMaxScaler which does exactly the same thing for you."
   ]
  },
  {
   "cell_type": "code",
   "execution_count": 6,
   "metadata": {},
   "outputs": [],
   "source": [
    "# Split into training and test set\n",
    "features_train, features_test, target_train, target_test = train_test_split(features_np, targets_np, \n",
    "                                                                            test_size=0.2, random_state=42)"
   ]
  },
  {
   "cell_type": "markdown",
   "metadata": {},
   "source": [
    "Now as we have the pixel values and targets well separated we can use the `train_test_split` function from Scikit-learn to divide our data into two distinct train and test sets.\n",
    "\n",
    "We pass the features and targets we created above and specify the `test_size`, in this case 0.2 means use 20% for test set and the rest (80%) for the train set. \n",
    "\n",
    "`random_state` as the name suggests, is used for initializing the internal random number generator, which will decide the splitting of data into train and test indices. In simpler terms when we use the same `random_state` the randomizer will output the same set of values all the time. This is useful because we may need to reproduce the same results.\n",
    "\n",
    "And also we may never want to inadvertantly train on the test set on another session, in Machine Learning the test set has to be constant all the time."
   ]
  },
  {
   "cell_type": "code",
   "execution_count": 7,
   "metadata": {},
   "outputs": [],
   "source": [
    "# create feature and targets tensor for train set. As you remember we need variable to accumulate gradients. Therefore first we create tensor, then we will create variable\n",
    "featuresTrain = torch.from_numpy(features_train)\n",
    "targetsTrain = torch.from_numpy(target_train).type(torch.LongTensor) # data type is long\n",
    "\n",
    "# create feature and targets tensor for test set.\n",
    "featuresTest = torch.from_numpy(features_test)\n",
    "targetsTest = torch.from_numpy(target_test).type(torch.LongTensor) # data type is long"
   ]
  },
  {
   "cell_type": "markdown",
   "metadata": {},
   "source": [
    "Okay now as I have mentioned earlier we are converting arrays (what we normally have in numpy) into tensors which our Neural Networks use. For that we use PyTorch's `from_numpy` function for both train and test sets."
   ]
  },
  {
   "cell_type": "code",
   "execution_count": 8,
   "metadata": {},
   "outputs": [],
   "source": [
    "# Set batch size\n",
    "batch_size = 256\n",
    "\n",
    "# Pytorch train and test sets\n",
    "train = torch.utils.data.TensorDataset(featuresTrain,targetsTrain)\n",
    "test = torch.utils.data.TensorDataset(featuresTest,targetsTest)\n",
    "\n",
    "# data loader\n",
    "train_loader = torch.utils.data.DataLoader(train, batch_size = batch_size, shuffle = True)\n",
    "test_loader = torch.utils.data.DataLoader(test, batch_size = batch_size, shuffle = True)"
   ]
  },
  {
   "cell_type": "markdown",
   "metadata": {},
   "source": [
    "We have discussed the batch size earlier, 256 here means we'll be updating the model parameters (which governs what the model learns) for every 256 images by computing the gradient usually using algorithms like Gradient Descent.\n",
    "\n",
    "Then we convert our tensors into a Tensor Dataset, which is essential for Deep Learning in PyTorch.\n",
    "\n",
    "The data loader gives us the data back in batches as we loop over them, here we have specified our batch size and set shuffle to `True` because the order of images here is insignificant. "
   ]
  },
  {
   "cell_type": "code",
   "execution_count": 9,
   "metadata": {},
   "outputs": [
    {
     "data": {
      "image/png": "[encoded data removed]",
      "text/plain": [
       "<Figure size 432x288 with 1 Axes>"
      ]
     },
     "metadata": {},
     "output_type": "display_data"
    }
   ],
   "source": [
    "# visualize one of the images in data set\n",
    "def visualize_image(data, index, pred=False, val=0):\n",
    "    '''This funtion can be used to visualize the images'''\n",
    "    plt.imshow(data[index].reshape(28,28))\n",
    "    plt.axis(\"off\")\n",
    "    plt.title(\"Handwritten Digit Image\")\n",
    "    plt.show()\n",
    "    \n",
    "visualize_image(features_np, 14)"
   ]
  },
  {
   "cell_type": "markdown",
   "metadata": {},
   "source": [
    "Since we have the pixels we can convert them back to images by reshaping them into a 28x28 square (as we have 784 values)\n",
    "\n",
    "Matplotlib's `imshow` function lets us visualize images like that directly by inferring from our numpy array itself."
   ]
  },
  {
   "cell_type": "code",
   "execution_count": 10,
   "metadata": {},
   "outputs": [
    {
     "data": {
      "text/plain": [
       "torch.Size([33600, 784])"
      ]
     },
     "execution_count": 10,
     "metadata": {},
     "output_type": "execute_result"
    }
   ],
   "source": [
    "featuresTrain.shape"
   ]
  },
  {
   "cell_type": "markdown",
   "metadata": {},
   "source": [
    "Looking at the shape of train data, we can see that we have 33,600 images. \n",
    "\n",
    "Now finally it is time to move into real Deep Learning stuff..."
   ]
  },
  {
   "cell_type": "markdown",
   "metadata": {},
   "source": [
    "## Define Network Architecture\n",
    "\n",
    "Covering how Neural Networks work is much beyond the scope of this notebook. For that by far the best explanations I have found have been in Andrew Ng's tutorials which you may want to have a look if you don't yet understand NNs.\n",
    "\n",
    "Now lets start with some simple terms,\n",
    "\n",
    "`Input Layer` - The initial layers that accepts our data as input. The input is called X\n",
    "\n",
    "`Hidden Layer` - All the layers in between the input layer and the final layer which does all the (black-box) learning. \n",
    "\n",
    "`Output Layer` - The final layer of our Neural Network that gives out the predictions. The outputs are called Y\n",
    "\n",
    "The architecture of the Neural Network is not purely arbitrary, you have to choose the one that works best for you, as a result of a lot of experimentation.\n",
    "\n",
    "PyTorch provides a module `nn` that makes building networks much simpler. \n",
    "\n",
    "Here I'll show you how to build the same with 784 inputs (as we have 784 pixel values), hidden units with 512, 256, 128, 64 neurons in each hidden layer, 10 output units as we have 10 classes to classify, and a softmax output for multi-class classification. \n",
    "\n",
    "It is quite similar to the one example image below.\n",
    "\n",
    "![Example](https://assets.digitalocean.com/articles/handwriting_tensorflow_python3/cnwitLM.png)"
   ]
  },
  {
   "cell_type": "code",
   "execution_count": 11,
   "metadata": {},
   "outputs": [],
   "source": [
    "class Classifier(nn.Module):\n",
    "    def __init__(self):\n",
    "        super().__init__()\n",
    "        # 5 Hidden Layer Network\n",
    "        self.fc1 = nn.Linear(28*28, 512)\n",
    "        self.fc2 = nn.Linear(512, 256)\n",
    "        self.fc3 = nn.Linear(256, 128)\n",
    "        self.fc4 = nn.Linear(128, 64)\n",
    "        self.fc5 = nn.Linear(64, 10)\n",
    "        \n",
    "        # Dropout module with 0.2 probbability\n",
    "        self.dropout = nn.Dropout(p=0.2)\n",
    "        # Add softmax on output layer\n",
    "        self.log_softmax = F.log_softmax\n",
    "        \n",
    "    def forward(self, x):\n",
    "        x = self.dropout(F.relu(self.fc1(x)))\n",
    "        x = self.dropout(F.relu(self.fc2(x)))\n",
    "        x = self.dropout(F.relu(self.fc3(x)))\n",
    "        x = self.dropout(F.relu(self.fc4(x)))\n",
    "        \n",
    "        x = self.log_softmax(self.fc5(x), dim=1)\n",
    "        \n",
    "        return x"
   ]
  },
  {
   "cell_type": "markdown",
   "metadata": {},
   "source": [
    "Well, that was a bit too much, isn't it?\n",
    "\n",
    "Let's go through this bit by bit.\n",
    "\n",
    "`class Network(nn.Module):`\n",
    "\n",
    "Here we're inheriting from `nn.Module`. Combined with `super().__init__()` this creates a class that tracks the architecture and provides a lot of useful methods and attributes. It is mandatory to inherit from nn.Module when you're creating a class for your network. The name of the class itself can be anything.\n",
    "\n",
    "`self.hidden = nn.Linear(784, 512)`\n",
    "\n",
    "This line creates a module for a linear transformation, $\\mathbf{W}x + b$, with 784 inputs and 512 outputs and assigns it to `self.hidden`. The module automatically creates the weight and bias tensors which we'll use in the `forward` method. You can access the weight and bias tensors once the network (net) is created with `net.hidden.weight` and `net.hidden.bias`.\n",
    "\n",
    "`self.output = nn.Linear(64, 10)`\n",
    "\n",
    "Similarly, this creates another linear transformation with 64 inputs and 10 outputs.\n",
    "\n",
    "`\n",
    "self.log_softmax = F.log_softmax`\n",
    "\n",
    "Here I defined operations for the log softmax activation that is used at the output layer. Setting `dim=1` in `F.log_softmax(dim=1)` calculates softmax across the columns. \n",
    "\n",
    "**So why Softmax? And what is it doing?**\n",
    "\n",
    "* The outputs from neural networks will be in form of probabilities if you don't know that already.\n",
    "* By looking at the labels and the task description it is clear that we don't have to output probabilities, the number found in the image instead. (The label)\n",
    "* This is why our output layer contains 10 outputs in the first place. \n",
    "* The ouputs of these 10 layers are in probabilities, we have to somehow convert them to a prediction which contains a digit.\n",
    "* This is where softmax comes in, what it does is pretty simple, **it takes the probabilities, finds the maximum probability for a certain input, and makes it 1 and making the rest of the outputs 0** that way we can get our predictions working. \n",
    "\n",
    "`self.dropout = nn.Dropout(p=0.2)`\n",
    "\n",
    "The most common method to reduce overfitting (outside of early-stopping) is dropout, where we randomly drop input units. This forces the network to share information between weights, increasing its ability to generalize to new data. Adding dropout in PyTorch is straightforward using the `nn.Dropout` module. In short, this means for every neuron there is a 20% chance that it is being ignored  all the time.\n",
    "\n",
    "\n",
    "`def forward(self, x):`\n",
    "\n",
    "PyTorch networks created with `nn.Module` must have a forward method defined. It takes in a tensor x and passes it through the operations you defined in the __init__ method.\n",
    "\n",
    "`x = self.dropout(F.relu(self.fc1(x)))\n",
    "x = self.dropout(F.relu(self.fc2(x)))\n",
    "x = self.dropout(F.relu(self.fc3(x)))\n",
    "x = self.dropout(F.relu(self.fc4(x)))`\n",
    "\n",
    "Here the input tensor `x` is passed through each operation and reassigned to `x`. We can see that the input tensor goes through the hidden layer, then a ReLU function, then the output layer, and finally the softmax function. \n",
    "\n",
    "\n",
    "**Activation Functions and why ReLU?**\n",
    "* The outputs of NNs are in linear form $\\mathbf{W}x + b$ with $\\mathbf{W}$ being the Weight matrix and $b$ being the bias matrix that is being learned (in order to give the right final output) across all the neurons, these are called parameters. There are usually millions of these parameters that are being learned in a deep neural network.\n",
    "\n",
    "* So just taking these output values of each neuron is fine, the easiest way to build and train one, this activation is called Linear Activations where no transformation is applied. That means the linearity of neurons in unchanged. \n",
    "\n",
    "* In a neural network we do complex multiplication and summing operations of these values at each node, turns out that when we use a Linear Activation we cannot capture more complex information as we have no mechanism in place to control how much each neuron gets activated to learn the intricate features represented in the data.\n",
    "\n",
    "* Note that this can still be used if we are expecting the output to be continuous values. (Regression) But for us (Classification) as it turns out this won't be all that effective to use, so we move to non-linear activation functions.\n",
    "\n",
    "* Non-linear activations let the neurons learn more complex features from the data by letting these neurons have sensitivity to specific features. We won't be going around setting which neurons detect which features by the way, that's why we train the algorithms with the data, to come up with an architecture where we can capture these intricate features just by running a few rounds through the data. \n",
    "\n",
    "* Two of the popular activation functions are `sigmoid` and `tanh` which are common in Machine Learning. In short, the caveats of using them on Neural Networks is that they saturate easily, for example if we give it a large value, sigmoid will squish it between 0 and 1 and `tanh` between -1 and 1. Which means after a certain rounds of training we might not be able to show any more differentiation to adapt the weights to keep learning more complex features. Which means this is simply not good enough for Deep Neural Networks as we would have to do this a lot more times.\n",
    "\n",
    "* And also this may lead to Exploding Gradients problem or Vanishing Gradients problem which can completely ruin the ability of the Neural Network to learn.\n",
    "\n",
    "* So what `ReLU` does is very simple, it only gets activated for positive values. So why is it helpful? It is being linear half the times and non-linear half the times, making adaptation much easier while training. Also effectively ruling out some of the problems of `sigmoid` and `tanh`. \n",
    "\n",
    "* In short, `ReLU` provides the necessary sensitivity as well as preventing easy saturation.\n"
   ]
  },
  {
   "cell_type": "markdown",
   "metadata": {},
   "source": [
    "## Training and Validation "
   ]
  },
  {
   "cell_type": "markdown",
   "metadata": {},
   "source": [
    "Before moving on to training there is some key steps and components that make training work.\n",
    "\n",
    "1. Data (Of course we have)\n",
    "2. Model (We have implemented one above)\n",
    "3. Loss Function\n",
    "4. Optimizer \n",
    "5. Evaluation Metric\n",
    "\n",
    "You know the answer to the first two by now. We'll discuss the rest here,\n",
    "\n",
    "**Loss Function:** <br>\n",
    "* A loss function is the one that helps us measure how good our model's predictions are against the ground truth values. \n",
    "\n",
    "* We optimize our model to eventually bring this loss down. One example in a regression task would be to take the absolute error between actual and predicted values. \n",
    "\n",
    "* But for classification this is not that simple. We have to come up with a different loss function like Negative Log Likely-hood loss or Cross Entropy loss or Binary Cross Entropy Loss. \n",
    "\n",
    "* You can read more about these loss functions [here](https://machinelearningmastery.com/loss-and-loss-functions-for-training-deep-learning-neural-networks/)\n",
    "\n",
    "**Optimizer:**\n",
    "* So now it is clear that we need to tune the parameters using some mechanism that takes these loss functions into account and ultimately tries to *minimize* it. This task is done by the optimizer. \n",
    "* When talking about Optimizers one of the most famous ones is the `Gradient Descent Optimizer`. It follows these 3 steps,\n",
    "\n",
    "    1. Computes the Loss.\n",
    "    2. Adjusts the parameters (Weights and biases) according to their gradients which means taking a step in the correct direction.\n",
    "    3. Repeat until the loss is as low as possible.\n",
    "    \n",
    "\n",
    "* There are several optimizers but most of them are just variants of the `Gradient Descent` Optimizer.\n",
    "* One of the most succesful Optimizer when it comes to Neural Networks is the `Adam` optimizer which means `Adaptive Moment Estimation`. In short, it uses a concept called momentum, it takes fractions of the previously computed gradients also into account while computing the current gradient. \n",
    "\n",
    "\n",
    "**Evaluation Metric:**\n",
    "\n",
    "As the name suggests it lets us evaluate the performance of the model in a meaningful way rather than just the losses. One of the most common example for an evaluation metric is `accuracy` which we are going to use here."
   ]
  },
  {
   "cell_type": "markdown",
   "metadata": {},
   "source": [
    "Now we should create our own network and train it. First we'll want to define the criterion, the loss (something like `nn.CrossEntropyLoss` or `nn.NLLLoss`) and the optimizer (typically `optim.SGD` or `optim.Adam`).\n",
    "* Make a forward pass through the network\n",
    "* Use the network output to calculate the loss\n",
    "* Perform a backward pass through the network with `loss.backward()` to calculate the gradients\n",
    "* Take a step with the optimizer to update the weights\n",
    "\n",
    "An **epoch** means we have gone over the entire dataset once, taking the actions mentioned above."
   ]
  },
  {
   "cell_type": "code",
   "execution_count": 12,
   "metadata": {},
   "outputs": [
    {
     "name": "stdout",
     "output_type": "stream",
     "text": [
      "Epoch: 1/25..  Training Loss: 0.639..  Test Loss: 0.744..  Test Accuracy: 0.746\n",
      "Epoch: 1/25..  Training Loss: 0.895..  Test Loss: 0.444..  Test Accuracy: 0.863\n",
      "Epoch: 2/25..  Training Loss: 0.061..  Test Loss: 0.342..  Test Accuracy: 0.902\n",
      "Epoch: 2/25..  Training Loss: 0.200..  Test Loss: 0.274..  Test Accuracy: 0.919\n",
      "Epoch: 2/25..  Training Loss: 0.318..  Test Loss: 0.232..  Test Accuracy: 0.933\n",
      "Epoch: 3/25..  Training Loss: 0.070..  Test Loss: 0.207..  Test Accuracy: 0.938\n",
      "Epoch: 3/25..  Training Loss: 0.157..  Test Loss: 0.190..  Test Accuracy: 0.944\n",
      "Epoch: 4/25..  Training Loss: 0.006..  Test Loss: 0.176..  Test Accuracy: 0.950\n",
      "Epoch: 4/25..  Training Loss: 0.076..  Test Loss: 0.159..  Test Accuracy: 0.953\n",
      "Epoch: 4/25..  Training Loss: 0.142..  Test Loss: 0.147..  Test Accuracy: 0.956\n",
      "Epoch: 5/25..  Training Loss: 0.023..  Test Loss: 0.142..  Test Accuracy: 0.958\n",
      "Epoch: 5/25..  Training Loss: 0.079..  Test Loss: 0.131..  Test Accuracy: 0.960\n",
      "Epoch: 5/25..  Training Loss: 0.132..  Test Loss: 0.128..  Test Accuracy: 0.961\n",
      "Epoch: 6/25..  Training Loss: 0.036..  Test Loss: 0.126..  Test Accuracy: 0.963\n",
      "Epoch: 6/25..  Training Loss: 0.085..  Test Loss: 0.121..  Test Accuracy: 0.961\n",
      "Epoch: 7/25..  Training Loss: 0.007..  Test Loss: 0.116..  Test Accuracy: 0.965\n",
      "Epoch: 7/25..  Training Loss: 0.046..  Test Loss: 0.107..  Test Accuracy: 0.967\n",
      "Epoch: 7/25..  Training Loss: 0.082..  Test Loss: 0.104..  Test Accuracy: 0.968\n",
      "Epoch: 8/25..  Training Loss: 0.016..  Test Loss: 0.102..  Test Accuracy: 0.969\n",
      "Epoch: 8/25..  Training Loss: 0.051..  Test Loss: 0.107..  Test Accuracy: 0.969\n",
      "Epoch: 8/25..  Training Loss: 0.083..  Test Loss: 0.104..  Test Accuracy: 0.969\n",
      "Epoch: 9/25..  Training Loss: 0.025..  Test Loss: 0.097..  Test Accuracy: 0.972\n",
      "Epoch: 9/25..  Training Loss: 0.053..  Test Loss: 0.094..  Test Accuracy: 0.972\n",
      "Epoch: 10/25..  Training Loss: 0.006..  Test Loss: 0.098..  Test Accuracy: 0.971\n",
      "Epoch: 10/25..  Training Loss: 0.029..  Test Loss: 0.098..  Test Accuracy: 0.970\n",
      "Epoch: 10/25..  Training Loss: 0.053..  Test Loss: 0.093..  Test Accuracy: 0.973\n",
      "Epoch: 11/25..  Training Loss: 0.015..  Test Loss: 0.093..  Test Accuracy: 0.973\n",
      "Epoch: 11/25..  Training Loss: 0.036..  Test Loss: 0.098..  Test Accuracy: 0.972\n",
      "Epoch: 11/25..  Training Loss: 0.059..  Test Loss: 0.094..  Test Accuracy: 0.974\n",
      "Epoch: 12/25..  Training Loss: 0.018..  Test Loss: 0.089..  Test Accuracy: 0.975\n",
      "Epoch: 12/25..  Training Loss: 0.038..  Test Loss: 0.101..  Test Accuracy: 0.973\n",
      "Epoch: 13/25..  Training Loss: 0.005..  Test Loss: 0.094..  Test Accuracy: 0.974\n",
      "Epoch: 13/25..  Training Loss: 0.019..  Test Loss: 0.094..  Test Accuracy: 0.975\n",
      "Epoch: 13/25..  Training Loss: 0.036..  Test Loss: 0.086..  Test Accuracy: 0.976\n",
      "Epoch: 14/25..  Training Loss: 0.010..  Test Loss: 0.097..  Test Accuracy: 0.974\n",
      "Epoch: 14/25..  Training Loss: 0.024..  Test Loss: 0.095..  Test Accuracy: 0.973\n",
      "Epoch: 15/25..  Training Loss: 0.000..  Test Loss: 0.092..  Test Accuracy: 0.974\n",
      "Epoch: 15/25..  Training Loss: 0.012..  Test Loss: 0.088..  Test Accuracy: 0.977\n",
      "Epoch: 15/25..  Training Loss: 0.025..  Test Loss: 0.091..  Test Accuracy: 0.976\n",
      "Epoch: 16/25..  Training Loss: 0.005..  Test Loss: 0.093..  Test Accuracy: 0.975\n",
      "Epoch: 16/25..  Training Loss: 0.015..  Test Loss: 0.099..  Test Accuracy: 0.975\n",
      "Epoch: 16/25..  Training Loss: 0.028..  Test Loss: 0.090..  Test Accuracy: 0.975\n",
      "Epoch: 17/25..  Training Loss: 0.007..  Test Loss: 0.090..  Test Accuracy: 0.977\n",
      "Epoch: 17/25..  Training Loss: 0.018..  Test Loss: 0.090..  Test Accuracy: 0.978\n",
      "Epoch: 18/25..  Training Loss: 0.001..  Test Loss: 0.102..  Test Accuracy: 0.975\n",
      "Epoch: 18/25..  Training Loss: 0.010..  Test Loss: 0.097..  Test Accuracy: 0.976\n",
      "Epoch: 18/25..  Training Loss: 0.020..  Test Loss: 0.087..  Test Accuracy: 0.977\n",
      "Epoch: 19/25..  Training Loss: 0.003..  Test Loss: 0.094..  Test Accuracy: 0.975\n",
      "Epoch: 19/25..  Training Loss: 0.012..  Test Loss: 0.092..  Test Accuracy: 0.977\n",
      "Epoch: 19/25..  Training Loss: 0.020..  Test Loss: 0.097..  Test Accuracy: 0.978\n",
      "Epoch: 20/25..  Training Loss: 0.007..  Test Loss: 0.095..  Test Accuracy: 0.978\n",
      "Epoch: 20/25..  Training Loss: 0.014..  Test Loss: 0.101..  Test Accuracy: 0.976\n",
      "Epoch: 21/25..  Training Loss: 0.001..  Test Loss: 0.095..  Test Accuracy: 0.978\n",
      "Epoch: 21/25..  Training Loss: 0.008..  Test Loss: 0.091..  Test Accuracy: 0.978\n",
      "Epoch: 21/25..  Training Loss: 0.016..  Test Loss: 0.097..  Test Accuracy: 0.976\n",
      "Epoch: 22/25..  Training Loss: 0.003..  Test Loss: 0.100..  Test Accuracy: 0.978\n",
      "Epoch: 22/25..  Training Loss: 0.011..  Test Loss: 0.098..  Test Accuracy: 0.976\n",
      "Epoch: 22/25..  Training Loss: 0.019..  Test Loss: 0.108..  Test Accuracy: 0.976\n",
      "Epoch: 23/25..  Training Loss: 0.006..  Test Loss: 0.096..  Test Accuracy: 0.979\n",
      "Epoch: 23/25..  Training Loss: 0.012..  Test Loss: 0.100..  Test Accuracy: 0.978\n",
      "Epoch: 24/25..  Training Loss: 0.002..  Test Loss: 0.093..  Test Accuracy: 0.978\n",
      "Epoch: 24/25..  Training Loss: 0.007..  Test Loss: 0.099..  Test Accuracy: 0.978\n",
      "Epoch: 24/25..  Training Loss: 0.015..  Test Loss: 0.103..  Test Accuracy: 0.977\n",
      "Epoch: 25/25..  Training Loss: 0.004..  Test Loss: 0.097..  Test Accuracy: 0.978\n",
      "Epoch: 25/25..  Training Loss: 0.010..  Test Loss: 0.106..  Test Accuracy: 0.976\n",
      "Epoch: 25/25..  Training Loss: 0.016..  Test Loss: 0.105..  Test Accuracy: 0.977\n"
     ]
    }
   ],
   "source": [
    "# Instantiate our model\n",
    "model = Classifier()\n",
    "# Define our loss function\n",
    "criterion = nn.NLLLoss()\n",
    "# Define the optimier\n",
    "optimizer = optim.Adam(model.parameters(), lr=5e-04)\n",
    "\n",
    "epochs = 25\n",
    "steps = 0\n",
    "print_every = 50\n",
    "train_losses, test_losses = [], []\n",
    "\n",
    "for e in range(epochs):\n",
    "    running_loss = 0\n",
    "    for images, labels in train_loader:\n",
    "        steps += 1\n",
    "        # Prevent accumulation of gradients\n",
    "        optimizer.zero_grad()\n",
    "        # Make predictions\n",
    "        log_ps = model(images)\n",
    "        loss = criterion(log_ps, labels)\n",
    "        #backprop\n",
    "        loss.backward()\n",
    "        optimizer.step()\n",
    "        \n",
    "        running_loss += loss.item()\n",
    "        if steps % print_every == 0:\n",
    "            test_loss = 0\n",
    "            accuracy = 0\n",
    "\n",
    "            # Turn off gradients for validation\n",
    "            with torch.no_grad():\n",
    "                model.eval()\n",
    "                for images, labels in test_loader:\n",
    "                    log_ps = model(images)\n",
    "                    test_loss += criterion(log_ps, labels)\n",
    "\n",
    "                    ps = torch.exp(log_ps)\n",
    "                    # Get our top predictions\n",
    "                    top_p, top_class = ps.topk(1, dim=1)\n",
    "                    equals = top_class == labels.view(*top_class.shape)\n",
    "                    accuracy += torch.mean(equals.type(torch.FloatTensor))\n",
    "\n",
    "            model.train()\n",
    "\n",
    "            train_losses.append(running_loss/len(train_loader))\n",
    "            test_losses.append(test_loss/len(test_loader))\n",
    "\n",
    "            print(\"Epoch: {}/{}.. \".format(e+1, epochs),\n",
    "                  \"Training Loss: {:.3f}.. \".format(train_losses[-1]),\n",
    "                  \"Test Loss: {:.3f}.. \".format(test_losses[-1]),\n",
    "                  \"Test Accuracy: {:.3f}\".format(accuracy/len(test_loader)))"
   ]
  },
  {
   "cell_type": "markdown",
   "metadata": {},
   "source": [
    "Oh what just happended there? I'll explain not to worry.\n",
    "\n",
    "#### Training: \n",
    "* I'm looping over the train loader, pulling out the images and labels.\n",
    "* Note that I have a line of code `optimizer.zero_grad()`. When you do multiple backwards passes with the same parameters, the gradients are accumulated. This means that you need to zero the gradients on each training pass or you'll retain gradients from previous training batches.\n",
    "* I have named the next variable `log_ps` because our model gives us back logs of class probabilities, you can take exponent to convert it to normal probabilities which I've done down below for validation. \n",
    "* We calculate the loss. Then backpropagate through the network. We then make one optimizer step. Which brings us closer and closer to the global optimum.\n",
    "\n",
    "#### Validation\n",
    "* We turn off the gradients for validation as it is not needed and saves a lot of memory and computation. Note that we should turn it back on after each step of validation.\n",
    "* We loop over the test_loader and essentially repeat some steps we have done above. Since it's validation we don't need to backpropagate. \n",
    "* The next step - With the probabilities, we can get the most likely class using the ps.topk method. This returns the $k$ highest values. Since we just want the most likely class, we can use `ps.topk(1)`. This returns a tuple of the top-$k$ values and the top-$k$ indices. If the highest value is the fifth element, we'll get back 4 as the index.\n",
    "* Then we check if the predicted value is equal to the actual value. \n",
    "* We then calculate the percentage of correct predictions, which indeed is using the mean of our top predictions. But you cannot just use `torch.mean` because `topk` returns a byte tensor but we need a float tensor to perform torch.mean we do that in the next step.\n",
    "\n",
    "The same process is repeated over and over again. The results are printed on each step. With this simple model we're able to get about 98% accuracy on validation which is awesome, isn't it?\n",
    "\n",
    "Hope that made sense. "
   ]
  },
  {
   "cell_type": "markdown",
   "metadata": {},
   "source": [
    "## Visualizing Model Performance"
   ]
  },
  {
   "cell_type": "markdown",
   "metadata": {},
   "source": [
    "One way to better understand if the training was effective other than the evaluation metric is to look at the training loss and validation loss history while doing the training. That way we can decide,\n",
    "* After how many epochs we could safely stop training. (Losses plateau out)\n",
    "* Determine underfitting and overfitting.\n",
    "* Adjusting learning rate and other hyper parameters."
   ]
  },
  {
   "cell_type": "code",
   "execution_count": 13,
   "metadata": {},
   "outputs": [
    {
     "data": {
      "text/plain": [
       "<matplotlib.legend.Legend at 0x7f4c0f935e48>"
      ]
     },
     "execution_count": 13,
     "metadata": {},
     "output_type": "execute_result"
    },
    {
     "data": {
      "image/png": "[encoded data removed]",
      "text/plain": [
       "<Figure size 432x288 with 1 Axes>"
      ]
     },
     "metadata": {
      "image/png": {
       "height": 250,
       "width": 373
      }
     },
     "output_type": "display_data"
    }
   ],
   "source": [
    "%matplotlib inline\n",
    "%config InlineBackend.figure_format = 'retina'\n",
    "\n",
    "plt.plot(train_losses, label='Training loss')\n",
    "plt.plot(test_losses, label='Validation loss')\n",
    "plt.legend(frameon=False)"
   ]
  },
  {
   "cell_type": "markdown",
   "metadata": {},
   "source": [
    "This graph looks decent to me. We're doing fairly well for our first model in PyTorch."
   ]
  },
  {
   "cell_type": "markdown",
   "metadata": {},
   "source": [
    "## Inference\n",
    "Inference is a crucial part of any machine learning project. This could give you a fair idea of how well your model performs in unseen data. \n",
    "\n",
    "In Inference we only make a forward pass through the network and make predictions and do nothing else. Just like how it would be used after moving it to production.\n",
    "\n",
    "\n",
    "You can see what out model is predicting here on the test data. You can try playing around with this function for different images. \n",
    "\n",
    "As expected our model seems to do well, infact really well."
   ]
  },
  {
   "cell_type": "code",
   "execution_count": 14,
   "metadata": {},
   "outputs": [],
   "source": [
    "def view_classify(img, ps):\n",
    "    ''' Function for viewing an image and it's predicted classes.\n",
    "    '''\n",
    "    ps = ps.data.numpy().squeeze()\n",
    "\n",
    "    fig, (ax1, ax2) = plt.subplots(figsize=(6,9), ncols=2)\n",
    "    ax1.imshow(img.resize_(1, 28, 28).numpy().squeeze())\n",
    "    ax1.axis('off')\n",
    "    ax2.barh(np.arange(10), ps)\n",
    "    ax2.set_aspect(0.1)\n",
    "    ax2.set_yticks(np.arange(10))\n",
    "    ax2.set_yticklabels(np.arange(10))\n",
    "    ax2.set_title('Class Probability')\n",
    "    ax2.set_xlim(0, 1.1)\n",
    "\n",
    "    plt.tight_layout()"
   ]
  },
  {
   "cell_type": "markdown",
   "metadata": {},
   "source": [
    "Every single line must be intuitive there, I'll explain if it is not\n",
    "\n",
    "So what `squeeze()` does is it takes the single dimensional entries out by squeezing the array.\n",
    "\n",
    "So we create subplots, we need the image and predicted label confidence chart side by side. We don't need axis to be displayed. The bar has to horizontal to look good so `barh` and that is it."
   ]
  },
  {
   "cell_type": "code",
   "execution_count": 15,
   "metadata": {},
   "outputs": [
    {
     "data": {
      "image/png": "[encoded data removed]",
      "text/plain": [
       "<Figure size 432x648 with 2 Axes>"
      ]
     },
     "metadata": {
      "image/png": {
       "height": 226,
       "width": 423
      }
     },
     "output_type": "display_data"
    }
   ],
   "source": [
    "%matplotlib inline\n",
    "def make_prediction(data):\n",
    "    images, labels = next(iter(data))\n",
    "\n",
    "    img = images[10].view(1, 784)\n",
    "    # Turn off gradients to speed up this part\n",
    "    with torch.no_grad():\n",
    "        logps = model(img)\n",
    "\n",
    "    # Output of the network are log-probabilities, need to take exponential for probabilities\n",
    "    ps = torch.exp(logps)\n",
    "    view_classify(img.view(1, 28, 28), ps)\n",
    "    \n",
    "make_prediction(test_loader)"
   ]
  },
  {
   "cell_type": "markdown",
   "metadata": {},
   "source": [
    "* The `make_prediction` function takes each batch, by iterating over it, turns gradients off as we are not computing anything here, gets the outputs of the model. Since these outputs are in `log` we have to take exponential of the output to get back the true outputs. \n",
    "\n",
    "* Then it calls the `view_classify` to plot the image with the predicted value. It does this using simple matplotlib features."
   ]
  },
  {
   "cell_type": "markdown",
   "metadata": {},
   "source": [
    "## Preparing Test Data for Prediction"
   ]
  },
  {
   "cell_type": "markdown",
   "metadata": {},
   "source": [
    "Please note this is really important we have to apply the same transformations to test data as we did for train (except data augmentation if any). \n",
    "\n",
    "So all these transformations may look a lot familiar to you we normalize the pixel values and convert it to tensor."
   ]
  },
  {
   "cell_type": "code",
   "execution_count": 16,
   "metadata": {},
   "outputs": [],
   "source": [
    "final_test_np = final_test.values/255\n",
    "test_tn = torch.from_numpy(final_test_np)"
   ]
  },
  {
   "cell_type": "code",
   "execution_count": 17,
   "metadata": {},
   "outputs": [],
   "source": [
    "# Creating fake labels for convenience of passing into DataLoader\n",
    "## CAUTION: There are other ways of doing this, I just did it this way\n",
    "fake_labels = np.zeros(final_test_np.shape)\n",
    "fake_labels = torch.from_numpy(fake_labels)"
   ]
  },
  {
   "cell_type": "code",
   "execution_count": 18,
   "metadata": {},
   "outputs": [],
   "source": [
    "test_tn_data = torch.utils.data.TensorDataset(test_tn, fake_labels)\n",
    "\n",
    "test_loader = torch.utils.data.DataLoader(test_tn_data, batch_size = batch_size, shuffle = False)"
   ]
  },
  {
   "cell_type": "code",
   "execution_count": 19,
   "metadata": {},
   "outputs": [
    {
     "data": {
      "image/png": "[encoded data removed]",
      "text/plain": [
       "<Figure size 432x648 with 2 Axes>"
      ]
     },
     "metadata": {
      "image/png": {
       "height": 226,
       "width": 423
      }
     },
     "output_type": "display_data"
    }
   ],
   "source": [
    "# Seeing what our model does on test data\n",
    "make_prediction(test_loader)"
   ]
  },
  {
   "cell_type": "markdown",
   "metadata": {},
   "source": [
    "## Making Predictions on Test data"
   ]
  },
  {
   "cell_type": "markdown",
   "metadata": {},
   "source": [
    "Now we actually pass the data inside the model to get back predictions and save these predictions in an output file.\n",
    "\n",
    "This output file is now a dataframe which can be saved as a CSV file."
   ]
  },
  {
   "cell_type": "code",
   "execution_count": 20,
   "metadata": {},
   "outputs": [],
   "source": [
    "# Making it submission ready\n",
    "predictions = [['ImageId', 'Label']]\n",
    "\n",
    "# Turn off gradients for validation\n",
    "with torch.no_grad():\n",
    "    model.eval()\n",
    "    image_id = 1\n",
    "    for images, _ in test_loader:\n",
    "        log_ps = model(images)\n",
    "        ps = torch.exp(log_ps)\n",
    "        top_p, top_class = ps.topk(1, dim=1)\n",
    "        \n",
    "        for prediction in top_class:\n",
    "            predictions.append([image_id, prediction.item()])\n",
    "            image_id += 1"
   ]
  },
  {
   "cell_type": "code",
   "execution_count": 21,
   "metadata": {},
   "outputs": [],
   "source": [
    "predictions_df = pd.DataFrame(predictions)\n",
    "predictions_df.columns = predictions_df.iloc[0]\n",
    "predictions_df = predictions_df.drop(0, axis=0)"
   ]
  },
  {
   "cell_type": "code",
   "execution_count": 22,
   "metadata": {},
   "outputs": [
    {
     "data": {
      "text/html": [
       "<div>\n",
       "<style scoped>\n",
       "    .dataframe tbody tr th:only-of-type {\n",
       "        vertical-align: middle;\n",
       "    }\n",
       "\n",
       "    .dataframe tbody tr th {\n",
       "        vertical-align: top;\n",
       "    }\n",
       "\n",
       "    .dataframe thead th {\n",
       "        text-align: right;\n",
       "    }\n",
       "</style>\n",
       "<table border=\"1\" class=\"dataframe\">\n",
       "  <thead>\n",
       "    <tr style=\"text-align: right;\">\n",
       "      <th></th>\n",
       "      <th>ImageId</th>\n",
       "      <th>Label</th>\n",
       "    </tr>\n",
       "  </thead>\n",
       "  <tbody>\n",
       "    <tr>\n",
       "      <th>1</th>\n",
       "      <td>1</td>\n",
       "      <td>2</td>\n",
       "    </tr>\n",
       "    <tr>\n",
       "      <th>2</th>\n",
       "      <td>2</td>\n",
       "      <td>0</td>\n",
       "    </tr>\n",
       "    <tr>\n",
       "      <th>3</th>\n",
       "      <td>3</td>\n",
       "      <td>9</td>\n",
       "    </tr>\n",
       "    <tr>\n",
       "      <th>4</th>\n",
       "      <td>4</td>\n",
       "      <td>9</td>\n",
       "    </tr>\n",
       "    <tr>\n",
       "      <th>5</th>\n",
       "      <td>5</td>\n",
       "      <td>3</td>\n",
       "    </tr>\n",
       "  </tbody>\n",
       "</table>\n",
       "</div>"
      ],
      "text/plain": [
       "0 ImageId Label\n",
       "1       1     2\n",
       "2       2     0\n",
       "3       3     9\n",
       "4       4     9\n",
       "5       5     3"
      ]
     },
     "execution_count": 22,
     "metadata": {},
     "output_type": "execute_result"
    }
   ],
   "source": [
    "predictions_df.head()"
   ]
  },
  {
   "cell_type": "markdown",
   "metadata": {},
   "source": [
    "Now we can save this dataframe as a CSV file using pandas's `to_csv` function. "
   ]
  },
  {
   "cell_type": "code",
   "execution_count": 23,
   "metadata": {},
   "outputs": [],
   "source": [
    "predictions_df.to_csv(\"../results/predictions.csv\", index=False)"
   ]
  },
  {
   "cell_type": "markdown",
   "metadata": {},
   "source": [
    "## Conclusion\n",
    "\n",
    "PyTorch may seem a little confusing at first but once you get the rhythm, it all becomes much easier.\n",
    "\n",
    "If you are worried about having to rewrite a lot of the same code for different projects you can use PyTorch `Catalyst`, `Ignite`, or `Lightning` they give you a higher level API (giving you the boiler plate code) which can save a ton of your time.\n",
    "\n",
    "Thanks for reading all the way. I really hope this tutorial was helpful and you atleast learned a few things about Deep Learning and PyTorch."
   ]
  },
  {
   "cell_type": "markdown",
   "metadata": {},
   "source": [
    "**Authored by:**\n",
    "[Abhinand](https://www.linkedin.com/in/abhinand-05/)"
   ]
  }
 ],
 "metadata": {
  "kernelspec": {
   "display_name": "Python 3",
   "language": "python",
   "name": "python3"
  },
  "language_info": {
   "codemirror_mode": {
    "name": "ipython",
    "version": 3
   },
   "file_extension": ".py",
   "mimetype": "text/x-python",
   "name": "python",
   "nbconvert_exporter": "python",
   "pygments_lexer": "ipython3",
   "version": "3.7.3"
  }
 },
 "nbformat": 4,
 "nbformat_minor": 4
}
